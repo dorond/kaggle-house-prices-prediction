{
 "cells": [
  {
   "cell_type": "markdown",
   "metadata": {},
   "source": [
    "# Setup"
   ]
  },
  {
   "cell_type": "code",
   "execution_count": 1,
   "metadata": {},
   "outputs": [],
   "source": [
    "import pandas as pd\n",
    "import numpy as np\n",
    "import os\n",
    "\n",
    "# To serialise models\n",
    "from sklearn.externals import joblib\n",
    "\n",
    "# To plot pretty figures\n",
    "%matplotlib inline\n",
    "import matplotlib.pyplot as plt\n",
    "\n",
    "plt.rcParams['axes.labelsize'] = 14\n",
    "plt.rcParams['xtick.labelsize'] = 12\n",
    "plt.rcParams['ytick.labelsize'] = 12\n",
    "\n",
    "import seaborn as sns\n",
    "sns.set()\n",
    "\n",
    "# to make this notebook's output stable across runs\n",
    "np.random.seed(42)\n",
    "\n",
    "# Where to save the figures\n",
    "PROJECT_ROOT_DIR = \".\"\n",
    "IMAGES_PATH = os.path.join(PROJECT_ROOT_DIR, \"images\")\n",
    "def save_fig(fig_id, tight_layout=True, fig_extension=\"png\", resolution=300):\n",
    "    if not os.path.isdir(IMAGES_PATH):\n",
    "        os.makedirs(IMAGES_PATH)\n",
    "    path = os.path.join(IMAGES_PATH, fig_id + \".\" + fig_extension)\n",
    "    print(\"Saving figure\", fig_id)\n",
    "    if tight_layout:\n",
    "        plt.tight_layout()\n",
    "    plt.savefig(path, format=fig_extension, dpi=resolution)\n",
    "\n",
    "\n",
    "PROCESSED_PATH = os.path.join(PROJECT_ROOT_DIR, \"processed\")\n",
    "def save_processed(df, filename, extension=\"csv\"):\n",
    "    if not os.path.isdir(PROCESSED_PATH):\n",
    "        os.makedirs(PROCESSED_PATH)\n",
    "    path = os.path.join(PROCESSED_PATH, filename + \".\" + extension)\n",
    "    print(\"Saving processed dataset\", filename)\n",
    "    df.to_csv(path, index=False)\n",
    "    \n",
    "SUBMISSIONS_PATH = os.path.join(PROJECT_ROOT_DIR, \"submissions\")\n",
    "def save_submission(df, filename, extension=\"csv\"):\n",
    "    if not os.path.isdir(SUBMISSIONS_PATH):\n",
    "        os.makedirs(SUBMISSIONS_PATH)\n",
    "    path = os.path.join(SUBMISSIONS_PATH, filename + \".\" + extension)\n",
    "    print(\"Saving submission\", filename)\n",
    "    df.to_csv(path, index=False)\n",
    "\n",
    "MODELS_PATH = os.path.join(PROJECT_ROOT_DIR, \"models\")\n",
    "def save_model(model, filename):\n",
    "    if not os.path.isdir(MODELS_PATH):\n",
    "        os.makedirs(MODELS_PATH)\n",
    "    path = os.path.join(MODELS_PATH, filename + \".\" + \"pkl\")\n",
    "    print(\"Saving model\", filename)\n",
    "    joblib.dump(model, path)\n",
    "\n",
    "# Ignore useless warnings\n",
    "import warnings\n",
    "warnings.filterwarnings(action=\"ignore\")"
   ]
  },
  {
   "cell_type": "markdown",
   "metadata": {},
   "source": [
    "# Get Data"
   ]
  },
  {
   "cell_type": "code",
   "execution_count": null,
   "metadata": {},
   "outputs": [],
   "source": [
    "import os\n",
    "import tarfile\n",
    "from six.moves import urllib\n",
    "\n",
    "DOWNLOAD_ROOT = \"https://raw.githubusercontent.com/ageron/handson-ml/master/\"\n",
    "LOCAL_PATH = os.path.join(\"datasets\", \"housing\")\n",
    "REMOTE_URL = DOWNLOAD_ROOT + \"datasets/housing/housing.tgz\"\n",
    "\n",
    "def fetch_data():\n",
    "    \n",
    "    #remote_url=REMOTE_URL, local_path=LOCAL_PATH, tgz_file_name\n",
    "    if not os.path.isdir(housing_path):\n",
    "        os.makedirs(housing_path)\n",
    "    tgz_path = os.path.join(local_path, tgz_file_name)\n",
    "    urllib.request.urlretrieve(remote_url, tgz_path)\n",
    "    data_tgz = tarfile.open(tgz_path)\n",
    "    data_tgz.extractall(path=local_path)\n",
    "    data_tgz.close()"
   ]
  },
  {
   "cell_type": "code",
   "execution_count": null,
   "metadata": {},
   "outputs": [],
   "source": [
    "import pandas as pd\n",
    "\n",
    "def load_data(local_path=LOCAL_PATH, csv_file_name):\n",
    "    csv_path = os.path.join(local_path, csv_file_name)\n",
    "    return pd.read_csv(csv_path)"
   ]
  },
  {
   "cell_type": "code",
   "execution_count": null,
   "metadata": {},
   "outputs": [],
   "source": []
  },
  {
   "cell_type": "markdown",
   "metadata": {},
   "source": []
  }
 ],
 "metadata": {
  "kernelspec": {
   "display_name": "Python 3",
   "language": "python",
   "name": "python3"
  },
  "language_info": {
   "codemirror_mode": {
    "name": "ipython",
    "version": 3
   },
   "file_extension": ".py",
   "mimetype": "text/x-python",
   "name": "python",
   "nbconvert_exporter": "python",
   "pygments_lexer": "ipython3",
   "version": "3.6.5"
  },
  "toc": {
   "base_numbering": 1,
   "nav_menu": {},
   "number_sections": true,
   "sideBar": true,
   "skip_h1_title": false,
   "title_cell": "Table of Contents",
   "title_sidebar": "Contents",
   "toc_cell": false,
   "toc_position": {},
   "toc_section_display": true,
   "toc_window_display": false
  }
 },
 "nbformat": 4,
 "nbformat_minor": 2
}
